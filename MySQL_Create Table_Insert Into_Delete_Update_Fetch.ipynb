{
 "cells": [
  {
   "cell_type": "code",
   "execution_count": 1,
   "metadata": {},
   "outputs": [],
   "source": [
    "import mysql.connector as c"
   ]
  },
  {
   "cell_type": "code",
   "execution_count": 2,
   "metadata": {},
   "outputs": [],
   "source": [
    "f_connect=c.connect(host='localhost',user='root',passwd='12345',database='mysql')"
   ]
  },
  {
   "cell_type": "code",
   "execution_count": 3,
   "metadata": {},
   "outputs": [
    {
     "name": "stdout",
     "output_type": "stream",
     "text": [
      "Enter User Name: root\n",
      "Enter Password : 12345\n",
      "Enter Database : venkydb\n"
     ]
    }
   ],
   "source": [
    "user=input('Enter User Name: ')\n",
    "password=input('Enter Password : ')\n",
    "database=input('Enter Database : ')"
   ]
  },
  {
   "cell_type": "code",
   "execution_count": 4,
   "metadata": {},
   "outputs": [],
   "source": [
    "def connect():\n",
    "    global user\n",
    "    global password\n",
    "    global database\n",
    "    return c.connect(host='localhost',user=user,passwd=password,database=database)"
   ]
  },
  {
   "cell_type": "code",
   "execution_count": 5,
   "metadata": {},
   "outputs": [],
   "source": [
    "def Create_table():\n",
    "    co=connect()\n",
    "    cursor=co.cursor()\n",
    "    query='create table if not exists Employee(eid integer primary key,ename varchar(50),desg varchar(30),site varchar(10))'\n",
    "    cursor.execute(query)\n",
    "    co.commit()\n",
    "    print('Table Created .. Done')"
   ]
  },
  {
   "cell_type": "code",
   "execution_count": 6,
   "metadata": {},
   "outputs": [],
   "source": [
    "def Insert_into(eid,ename,desg,site):\n",
    "    cn=connect()\n",
    "    cursor=cn.cursor()\n",
    "    query=\"Insert into Employee values({},'{}','{}','{}')\".format(eid,ename,desg,site)\n",
    "    cursor.execute(query)\n",
    "    cn.commit()\n",
    "    print('Data inserted...Done')"
   ]
  },
  {
   "cell_type": "code",
   "execution_count": 7,
   "metadata": {},
   "outputs": [],
   "source": [
    "def fetch_data(choose,n=0):\n",
    "    con=connect()\n",
    "    cursor=con.cursor()\n",
    "    query='select * from employee'\n",
    "    cursor.execute(query)\n",
    "    if choose==1:\n",
    "        all=cursor.fetchall()\n",
    "        for i in all:\n",
    "            print(i)\n",
    "    elif choose==2:\n",
    "        x=cursor.fetchmany(n)\n",
    "        for i in x:\n",
    "            print(i)\n",
    "    elif choose==3:\n",
    "        first=cursor.fetchone()\n",
    "        print(first)\n",
    "    else:\n",
    "        print('Thank You...')"
   ]
  },
  {
   "cell_type": "code",
   "execution_count": 8,
   "metadata": {},
   "outputs": [],
   "source": [
    "def Delete(eid):\n",
    "    conn=connect()\n",
    "    cursor=conn.cursor()\n",
    "    query='delete from employee where eid={}'.format(eid)\n",
    "    cursor.execute(query)\n",
    "    conn.commit()\n",
    "    if cursor.rowcount>0:\n",
    "        print(\"Selected Data Delete...\")\n",
    "    else:\n",
    "        print('Selected Data Not Found!!!')"
   ]
  },
  {
   "cell_type": "code",
   "execution_count": 9,
   "metadata": {},
   "outputs": [],
   "source": [
    "def update(eid,ename,desg,site):\n",
    "    conn=connect()\n",
    "    cursor=conn.cursor()\n",
    "    query=\"update employee set ename='{}',desg='{}',site='{}' where eid={}\".format(ename,desg,site,eid)\n",
    "    cursor.execute(query)\n",
    "    conn.commit()\n",
    "    if cursor.rowcount>0:\n",
    "        print(\"Data Updated...\")\n",
    "    else:\n",
    "        print('Data Not Found!!!')"
   ]
  },
  {
   "cell_type": "code",
   "execution_count": 10,
   "metadata": {
    "scrolled": true
   },
   "outputs": [
    {
     "name": "stdout",
     "output_type": "stream",
     "text": [
      "Do You want to Create table\n",
      "For Yes-> Y/y \n",
      "For No-> Any Key \n",
      "\n",
      "Choose Right One : v\n"
     ]
    }
   ],
   "source": [
    "choose=input('Do You want to Create table\\nFor Yes-> Y/y \\nFor No-> Any Key \\n\\nChoose Right One : ')\n",
    "if choose=='Y' or choose=='y':\n",
    "    Create_table()\n",
    "else:\n",
    "    pass"
   ]
  },
  {
   "cell_type": "code",
   "execution_count": 11,
   "metadata": {},
   "outputs": [
    {
     "name": "stdout",
     "output_type": "stream",
     "text": [
      "Do You want to Enter More data?\n",
      "for Yes->Y/y for No-> N/n\n",
      "Choose Right One : n\n",
      "Thank You\n"
     ]
    }
   ],
   "source": [
    "while True:\n",
    "    print('Do You want to Enter More data?')\n",
    "    print('for Yes->Y/y for No-> N/n')\n",
    "    choose=input(\"Choose Right One : \")\n",
    "    if choose=='N' or choose=='n':\n",
    "        print('Thank You')\n",
    "        break\n",
    "    elif choose=='Y' or choose=='y':\n",
    "        eid=int(input('Enter Employee id : '))\n",
    "        ename=input('Enter Employee Name : ')\n",
    "        desg=input('Enter Employee Designation : ')\n",
    "        site=input('Enter Employee Site : ')\n",
    "        Insert_into(eid,ename,desg,site)\n",
    "    else:\n",
    "        print('Choose Right One...')"
   ]
  },
  {
   "cell_type": "code",
   "execution_count": 12,
   "metadata": {},
   "outputs": [
    {
     "name": "stdout",
     "output_type": "stream",
     "text": [
      "1-> All Records \n",
      "2-> No. Of Records \n",
      "3-> One Record \n",
      "4-0-> Exit \n",
      "\n",
      "Choose Right one: 3\n",
      "(1234, 'abc', 'manager', 'pune')\n",
      "1-> All Records \n",
      "2-> No. Of Records \n",
      "3-> One Record \n",
      "4-0-> Exit \n",
      "\n",
      "Choose Right one: 4\n",
      "Thank You...\n"
     ]
    }
   ],
   "source": [
    "while True:\n",
    "    choose=int(input('1-> All Records \\n2-> No. Of Records \\n3-> One Record \\n4-0-> Exit \\n\\nChoose Right one: '))\n",
    "    if choose==1:\n",
    "        fetch_data(choose)\n",
    "    elif choose==2:\n",
    "        n=int(input('Enter No of Records Required :'))\n",
    "        fetch_data(choose,n)\n",
    "    elif choose==3:\n",
    "        fetch_data(choose)\n",
    "    else:\n",
    "        print('Thank You...')\n",
    "        break"
   ]
  },
  {
   "cell_type": "code",
   "execution_count": 13,
   "metadata": {
    "scrolled": true
   },
   "outputs": [
    {
     "name": "stdout",
     "output_type": "stream",
     "text": [
      " 1-> Delete Data\n",
      " 2-> Update The data\n",
      " 3-0-> Exit\n",
      " Enter Your Choice: 2\n",
      "Enter Employee id : 1234\n",
      "Enter Employee Name : xyz\n",
      "Enter Employee Designation : Manager\n",
      "Enter Employee Site : pune\n",
      "Data Updated...\n",
      " 1-> Delete Data\n",
      " 2-> Update The data\n",
      " 3-0-> Exit\n",
      " Enter Your Choice: 1\n",
      "Select student id for Delete : 1234\n",
      "Selected Data Delete...\n",
      " 1-> Delete Data\n",
      " 2-> Update The data\n",
      " 3-0-> Exit\n",
      " Enter Your Choice: 4\n",
      " Thank You\n"
     ]
    }
   ],
   "source": [
    "while True:\n",
    "    Choise=int(input(' 1-> Delete Data\\n 2-> Update The data\\n 3-0-> Exit\\n Enter Your Choice: '))\n",
    "    if Choise ==1:\n",
    "        eid=int(input('Select student id for Delete : '))\n",
    "        Delete(eid)\n",
    "    elif Choise ==2:\n",
    "        eid=int(input('Enter Employee id : '))\n",
    "        ename=input('Enter Employee Name : ')\n",
    "        desg=input('Enter Employee Designation : ')\n",
    "        site=input('Enter Employee Site : ')\n",
    "        update(eid,ename,desg,site)\n",
    "    else:\n",
    "        print(\" Thank You\")\n",
    "        break"
   ]
  },
  {
   "cell_type": "code",
   "execution_count": null,
   "metadata": {},
   "outputs": [],
   "source": []
  }
 ],
 "metadata": {
  "kernelspec": {
   "display_name": "Python 3",
   "language": "python",
   "name": "python3"
  },
  "language_info": {
   "codemirror_mode": {
    "name": "ipython",
    "version": 3
   },
   "file_extension": ".py",
   "mimetype": "text/x-python",
   "name": "python",
   "nbconvert_exporter": "python",
   "pygments_lexer": "ipython3",
   "version": "3.8.5"
  }
 },
 "nbformat": 4,
 "nbformat_minor": 4
}
